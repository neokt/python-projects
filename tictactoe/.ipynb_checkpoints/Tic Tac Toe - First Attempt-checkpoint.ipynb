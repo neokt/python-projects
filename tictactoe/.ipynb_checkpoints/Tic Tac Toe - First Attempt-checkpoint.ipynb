{
 "cells": [
  {
   "cell_type": "code",
   "execution_count": 23,
   "metadata": {
    "collapsed": false
   },
   "outputs": [],
   "source": [
    "# Tic-tac-toe game - Complete Python Bootcamp - Milestone Project 1\n",
    "# Made without any guidance from hints or solutions\n",
    "\n",
    "board = {'a1': '-', 'a2': '-', 'a3': '-',\n",
    "        'b1': '-', 'b2': '-', 'b3': '-',\n",
    "        'c1': '-', 'c2': '-', 'c3': '-'}\n",
    "\n",
    "positions = ['a1', 'a2', 'a3', 'b1', 'b2', 'b3', 'c1', 'c2', 'c3']\n",
    "\n",
    "winner = False\n",
    "\n",
    "def win_check():\n",
    "    global winner\n",
    "    ## x case\n",
    "    # columns\n",
    "    if 'x' in board['a1'] and 'x' in board['a2'] and 'x' in board ['a3']:\n",
    "        winner = True\n",
    "    elif 'x' in board['b1'] and 'x' in board['b2'] and 'x' in board ['b3']:\n",
    "        winner = True\n",
    "    elif 'x' in board['c1'] and 'x' in board['c2'] and 'x' in board ['c3']:\n",
    "        winner = True\n",
    "    # rows\n",
    "    elif 'x' in board['a1'] and 'x' in board['b1'] and 'x' in board ['c1']:\n",
    "        winner = True\n",
    "    elif 'x' in board['a2'] and 'x' in board['b2'] and 'x' in board ['c2']:\n",
    "        winner = True\n",
    "    elif 'x' in board['a3'] and 'x' in board['b3'] and 'x' in board ['c3']:\n",
    "        winner = True\n",
    "    # diagonals\n",
    "    elif 'x' in board['a1'] and 'x' in board['b2'] and 'x' in board ['c3']:\n",
    "        winner = True\n",
    "    elif 'x' in board['c1'] and 'x' in board['b2'] and 'x' in board ['a3']:\n",
    "        winner = True\n",
    "    ## o case\n",
    "    # columns\n",
    "    elif 'o' in board['a1'] and 'o' in board['a2'] and 'o' in board ['a3']:\n",
    "        winner = True\n",
    "    elif 'o' in board['b1'] and 'o' in board['b2'] and 'o' in board ['b3']:\n",
    "        winner = True\n",
    "    elif 'o' in board['c1'] and 'o' in board['c2'] and 'o' in board ['c3']:\n",
    "        winner = True\n",
    "    # rows\n",
    "    elif 'o' in board['a1'] and 'o' in board['b1'] and 'o' in board ['c1']:\n",
    "        winner = True\n",
    "    elif 'o' in board['a2'] and 'o' in board['b2'] and 'o' in board ['c2']:\n",
    "        winner = True\n",
    "    elif 'o' in board['a3'] and 'o' in board['b3'] and 'o' in board ['c3']:\n",
    "        winner = True\n",
    "    # diagonals\n",
    "    elif 'o' in board['a1'] and 'o' in board['b2'] and 'o' in board ['c3']:\n",
    "        winner = True\n",
    "    elif 'o' in board['c1'] and 'o' in board['b2'] and 'o' in board ['a3']:\n",
    "        winner = True\n",
    "    else: \n",
    "        pass\n",
    "    \n",
    "def print_board():\n",
    "    print ' ', '1', '2', '3'\n",
    "    print 'a', board['a1'], board['a2'], board['a3']\n",
    "    print 'b', board['b1'], board['b2'], board['b3']\n",
    "    print 'c', board['c1'], board['c2'], board['c3']\n",
    "\n",
    "def p1_turn():\n",
    "    print \"The available positions are: \", positions\n",
    "    \n",
    "    while True:\n",
    "        p1_move = raw_input(\"What's your move, player 1? \")\n",
    "        if p1_move in positions:\n",
    "            board[p1_move] = 'x'\n",
    "            print_board()\n",
    "            positions.pop(positions.index(p1_move))\n",
    "            win_check()\n",
    "            break\n",
    "        else:\n",
    "            print \"That's not a valid move. Try again!\"\n",
    "            continue\n",
    "            \n",
    "def p2_turn():\n",
    "    print \"The available positions are: \", positions \n",
    "        \n",
    "    while True:\n",
    "        p2_move = raw_input(\"What's your move, player 2? \")\n",
    "        if p2_move in positions:\n",
    "            board[p2_move] = 'o'\n",
    "            print_board()\n",
    "            positions.pop(positions.index(p2_move))\n",
    "            win_check()\n",
    "            break\n",
    "        else:\n",
    "            print \"That's not a valid move. Try again!\"\n",
    "            continue\n",
    "    \n",
    "def ttt_engine():\n",
    "    print \"Start the game! Player 1 is x, Player 2 is o\"\n",
    "    print_board()\n",
    "    for num in xrange(1,11):\n",
    "        if num == 10 and winner is False:\n",
    "            print \"It's a tie!\"\n",
    "        elif num % 2 != 0:\n",
    "            p1_turn()\n",
    "            if winner is True:\n",
    "                print \"The winner is Player 1!\"\n",
    "                break\n",
    "        elif num % 2 == 0 and num != 10:  \n",
    "            p2_turn()\n",
    "            if winner is True:\n",
    "                print \"The winner is Player 2!\"\n",
    "                break\n",
    "        else: \n",
    "            pass"
   ]
  },
  {
   "cell_type": "code",
   "execution_count": 24,
   "metadata": {
    "collapsed": false
   },
   "outputs": [
    {
     "name": "stdout",
     "output_type": "stream",
     "text": [
      "Start the game! Player 1 is x, Player 2 is o\n",
      "  1 2 3\n",
      "a - - -\n",
      "b - - -\n",
      "c - - -\n",
      "The available positions are:  ['a1', 'a2', 'a3', 'b1', 'b2', 'b3', 'c1', 'c2', 'c3']\n",
      "What's your move, player 1? a1\n",
      "  1 2 3\n",
      "a x - -\n",
      "b - - -\n",
      "c - - -\n",
      "The available positions are:  ['a2', 'a3', 'b1', 'b2', 'b3', 'c1', 'c2', 'c3']\n",
      "What's your move, player 2? a3\n",
      "  1 2 3\n",
      "a x - o\n",
      "b - - -\n",
      "c - - -\n",
      "The available positions are:  ['a2', 'b1', 'b2', 'b3', 'c1', 'c2', 'c3']\n",
      "What's your move, player 1? c1\n",
      "  1 2 3\n",
      "a x - o\n",
      "b - - -\n",
      "c x - -\n",
      "The available positions are:  ['a2', 'b1', 'b2', 'b3', 'c2', 'c3']\n",
      "What's your move, player 2? b1\n",
      "  1 2 3\n",
      "a x - o\n",
      "b o - -\n",
      "c x - -\n",
      "The available positions are:  ['a2', 'b2', 'b3', 'c2', 'c3']\n",
      "What's your move, player 1? c3\n",
      "  1 2 3\n",
      "a x - o\n",
      "b o - -\n",
      "c x - x\n",
      "The available positions are:  ['a2', 'b2', 'b3', 'c2']\n",
      "What's your move, player 2? c2\n",
      "  1 2 3\n",
      "a x - o\n",
      "b o - -\n",
      "c x o x\n",
      "The available positions are:  ['a2', 'b2', 'b3']\n",
      "What's your move, player 1? b2\n",
      "  1 2 3\n",
      "a x - o\n",
      "b o x -\n",
      "c x o x\n",
      "The winner is Player 1!\n"
     ]
    }
   ],
   "source": [
    "ttt_engine()"
   ]
  },
  {
   "cell_type": "code",
   "execution_count": null,
   "metadata": {
    "collapsed": false
   },
   "outputs": [],
   "source": []
  },
  {
   "cell_type": "code",
   "execution_count": null,
   "metadata": {
    "collapsed": false
   },
   "outputs": [],
   "source": []
  },
  {
   "cell_type": "code",
   "execution_count": null,
   "metadata": {
    "collapsed": false
   },
   "outputs": [],
   "source": []
  },
  {
   "cell_type": "code",
   "execution_count": null,
   "metadata": {
    "collapsed": false
   },
   "outputs": [],
   "source": []
  },
  {
   "cell_type": "code",
   "execution_count": null,
   "metadata": {
    "collapsed": false
   },
   "outputs": [],
   "source": []
  },
  {
   "cell_type": "code",
   "execution_count": null,
   "metadata": {
    "collapsed": false
   },
   "outputs": [],
   "source": []
  },
  {
   "cell_type": "code",
   "execution_count": null,
   "metadata": {
    "collapsed": true
   },
   "outputs": [],
   "source": []
  }
 ],
 "metadata": {
  "kernelspec": {
   "display_name": "Python 2",
   "language": "python",
   "name": "python2"
  },
  "language_info": {
   "codemirror_mode": {
    "name": "ipython",
    "version": 2
   },
   "file_extension": ".py",
   "mimetype": "text/x-python",
   "name": "python",
   "nbconvert_exporter": "python",
   "pygments_lexer": "ipython2",
   "version": "2.7.11"
  }
 },
 "nbformat": 4,
 "nbformat_minor": 0
}

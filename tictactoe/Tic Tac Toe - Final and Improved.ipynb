{
 "cells": [
  {
   "cell_type": "code",
   "execution_count": 1,
   "metadata": {
    "collapsed": true
   },
   "outputs": [],
   "source": [
    "from IPython.display import clear_output\n",
    "import random\n",
    "\n",
    "def display_board(board):\n",
    "    clear_output()\n",
    "    print ' ', '1', '2', '3'\n",
    "    print 'a', board['a1'], board['a2'], board['a3']\n",
    "    print 'b', board['b1'], board['b2'], board['b3']\n",
    "    print 'c', board['c1'], board['c2'], board['c3']"
   ]
  },
  {
   "cell_type": "code",
   "execution_count": 2,
   "metadata": {
    "collapsed": true
   },
   "outputs": [],
   "source": [
    "def win_check(board, marker):\n",
    "    return ((board['a1'] == marker and board['a2'] == marker and board['a3'] == marker) or\n",
    "            (board['b1'] == marker and board['b2'] == marker and board['b3'] == marker) or\n",
    "            (board['c1'] == marker and board['c2'] == marker and board['c3'] == marker) or\n",
    "            (board['a1'] == marker and board['b1'] == marker and board['c1'] == marker) or\n",
    "            (board['a2'] == marker and board['b2'] == marker and board['c2'] == marker) or\n",
    "            (board['a3'] == marker and board['b3'] == marker and board['c3'] == marker) or\n",
    "            (board['a1'] == marker and board['b2'] == marker and board['c3'] == marker) or\n",
    "            (board['c1'] == marker and board['b2'] == marker and board['a3'] == marker))"
   ]
  },
  {
   "cell_type": "code",
   "execution_count": 3,
   "metadata": {
    "collapsed": true
   },
   "outputs": [],
   "source": [
    "def choose_first():\n",
    "    \n",
    "    name1 = raw_input(\"First player, what is your name? \")\n",
    "    name2 = raw_input(\"Second player, what is your name? \")\n",
    "\n",
    "    if random.randint(0,1) == 0:\n",
    "        print \"%s goes first!\" % (name1)\n",
    "        return (name1, name2)\n",
    "    else:\n",
    "        print \"%s goes first!\" % (name2)\n",
    "        return (name2, name1)"
   ]
  },
  {
   "cell_type": "code",
   "execution_count": 4,
   "metadata": {
    "collapsed": true
   },
   "outputs": [],
   "source": [
    "def place_maker(board, marker, position):\n",
    "    board[position] = marker"
   ]
  },
  {
   "cell_type": "code",
   "execution_count": 7,
   "metadata": {
    "collapsed": true
   },
   "outputs": [],
   "source": [
    "def player_input(player):\n",
    "    marker = ''\n",
    "    while not (marker == \"X\" or marker == \"O\"):\n",
    "        marker = raw_input(\"%s, will your marker be X or O?\" % player).upper()\n",
    "        \n",
    "    if marker == \"X\":\n",
    "        return ('X','O')\n",
    "    else:\n",
    "        return ('O','X')"
   ]
  },
  {
   "cell_type": "code",
   "execution_count": 8,
   "metadata": {
    "collapsed": true
   },
   "outputs": [],
   "source": [
    "def replay():\n",
    "    return raw_input(\"Play again? y/n \").lower().startswith('y')"
   ]
  },
  {
   "cell_type": "code",
   "execution_count": 9,
   "metadata": {
    "collapsed": true
   },
   "outputs": [],
   "source": [
    "def player_choice(available):\n",
    "    move = ''\n",
    "    while move not in available:\n",
    "        move = raw_input(\"What's your next move? \")\n",
    "    \n",
    "    return move"
   ]
  },
  {
   "cell_type": "code",
   "execution_count": 26,
   "metadata": {
    "collapsed": true
   },
   "outputs": [],
   "source": [
    "def player_turn(player, board, marker, available):\n",
    "    print \"%s, it's your turn!\" % (player)\n",
    "    print \"The available positions are: \", available\n",
    "    position = player_choice(available)\n",
    "    place_maker(board, marker, position)\n",
    "    available.pop(available.index(position))\n",
    "    display_board(board)"
   ]
  },
  {
   "cell_type": "code",
   "execution_count": 25,
   "metadata": {
    "collapsed": true
   },
   "outputs": [],
   "source": [
    "def tictactoe():\n",
    "    \n",
    "    while True:\n",
    "        \n",
    "        print('Welcome to Tic Tac Toe!')\n",
    "\n",
    "        theBoard = {'a1': '-', 'a2': '-', 'a3': '-',\n",
    "                    'b1': '-', 'b2': '-', 'b3': '-',\n",
    "                    'c1': '-', 'c2': '-', 'c3': '-'}\n",
    "\n",
    "        positions = ['a1', 'a2', 'a3', 'b1', 'b2', 'b3', 'c1', 'c2', 'c3']\n",
    "        \n",
    "        display_board(theBoard)   \n",
    "        p1, p2 = choose_first()\n",
    "        marker1, marker2 = player_input(p1)\n",
    "        \n",
    "        for turn in xrange(1,11):\n",
    "            if turn % 2 != 0:\n",
    "                player_turn(p1, theBoard, marker1, positions)\n",
    "                turn += 1\n",
    "                \n",
    "                if win_check(theBoard, marker1):\n",
    "                    print \"%s, you win!\" %(p1)\n",
    "                    break                  \n",
    "               \n",
    "            elif turn % 2 == 0 and turn < 10:\n",
    "                player_turn(p2, theBoard, marker2, positions)\n",
    "                turn += 1\n",
    "                \n",
    "                if win_check(theBoard, marker2):\n",
    "                    print \"%s, you win!\" %(p2)\n",
    "                    break\n",
    "                    \n",
    "            elif turn == 10 and (win_check(theBoard, marker1) is False and \n",
    "            win_check(theBoard, marker2) is False):\n",
    "                print \"It's a tie!\"\n",
    "                    \n",
    "            else:\n",
    "                pass\n",
    "\n",
    "        if not replay():\n",
    "            print \"Thanks for playing!\"\n",
    "            break"
   ]
  },
  {
   "cell_type": "code",
   "execution_count": 27,
   "metadata": {
    "collapsed": false
   },
   "outputs": [
    {
     "name": "stdout",
     "output_type": "stream",
     "text": [
      "  1 2 3\n",
      "a O X O\n",
      "b O - X\n",
      "c O - X\n",
      "Tnn, you win!\n",
      "Play again? y/n n\n",
      "Thanks for playing!\n"
     ]
    }
   ],
   "source": [
    "tictactoe()"
   ]
  },
  {
   "cell_type": "code",
   "execution_count": null,
   "metadata": {
    "collapsed": true
   },
   "outputs": [],
   "source": []
  }
 ],
 "metadata": {
  "kernelspec": {
   "display_name": "Python 2",
   "language": "python",
   "name": "python2"
  },
  "language_info": {
   "codemirror_mode": {
    "name": "ipython",
    "version": 2
   },
   "file_extension": ".py",
   "mimetype": "text/x-python",
   "name": "python",
   "nbconvert_exporter": "python",
   "pygments_lexer": "ipython2",
   "version": "2.7.11"
  }
 },
 "nbformat": 4,
 "nbformat_minor": 0
}
